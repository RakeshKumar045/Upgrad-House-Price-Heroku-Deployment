{
 "cells": [
  {
   "cell_type": "code",
   "execution_count": 10,
   "metadata": {},
   "outputs": [],
   "source": [
    "import joblib\n",
    "from flask import Flask, request, jsonify\n",
    "from marshmallow import Schema, fields, ValidationError\n"
   ]
  },
  {
   "cell_type": "code",
   "execution_count": 11,
   "metadata": {},
   "outputs": [],
   "source": [
    "# !pip install marshmallow\n",
    "\n",
    "#install marshmallow by terminal , if it is not working"
   ]
  },
  {
   "cell_type": "code",
   "execution_count": 12,
   "metadata": {},
   "outputs": [],
   "source": [
    "app = Flask(__name__)\n",
    "model = joblib.load('hp_trained_model.pkl')\n",
    "\n",
    "\n",
    "class ParameterSchema(Schema):\n",
    "    sqft = fields.Integer(required=True)\n",
    "    place = fields.Integer(required=True)\n",
    "    yearsOld = fields.Integer(required=True)\n",
    "    totalFloor = fields.Integer(required=True)\n",
    "    bhk = fields.Integer(required=True)\n",
    "\n",
    "@app.route('/')\n",
    "def index():\n",
    "    return 'Hello Data Scientists'\n",
    "\n",
    "\n",
    "@app.route('/house_pred', methods=['POST'])\n",
    "def predict():\n",
    "    # Get Request body from JSON\n",
    "    request_data = request.json\n",
    "    schema = ParameterSchema()\n",
    "\n",
    "    try:\n",
    "        # Validate request body against schema data types\n",
    "        reqParam = schema.load(request_data)\n",
    "    except ValidationError as err:\n",
    "        # Return a nice message if validation fails\n",
    "        return jsonify(err.messages), 400\n",
    "\n",
    "    # Convert request body back to JSON str\n",
    "    area_sqft = reqParam['sqft']\n",
    "    place = reqParam['place']\n",
    "    yearsOld = reqParam['yearsOld']\n",
    "    totalFloor = reqParam['totalFloor']\n",
    "    bhk = reqParam['bhk']\n",
    "\n",
    "    returnJson = {}\n",
    "    # predicting from model\n",
    "    returnJson['price'] = model.predict(\n",
    "        [[\n",
    "            area_sqft,\n",
    "            place,\n",
    "            yearsOld,\n",
    "            totalFloor,\n",
    "            bhk,\n",
    "        ]]\n",
    "    )[0]\n",
    "\n",
    "    return jsonify(returnJson)\n"
   ]
  },
  {
   "cell_type": "code",
   "execution_count": null,
   "metadata": {},
   "outputs": [
    {
     "name": "stdout",
     "output_type": "stream",
     "text": [
      " * Serving Flask app \"__main__\" (lazy loading)\n",
      " * Environment: production\n",
      "\u001b[31m   WARNING: This is a development server. Do not use it in a production deployment.\u001b[0m\n",
      "\u001b[2m   Use a production WSGI server instead.\u001b[0m\n",
      " * Debug mode: off\n"
     ]
    },
    {
     "name": "stderr",
     "output_type": "stream",
     "text": [
      " * Running on http://127.0.0.1:5000/ (Press CTRL+C to quit)\n",
      "127.0.0.1 - - [04/Apr/2021 13:17:44] \"\u001b[37mGET / HTTP/1.1\u001b[0m\" 200 -\n"
     ]
    }
   ],
   "source": [
    "if __name__ == '__main__':\n",
    "    app.run(threaded=True, port=5000)\n",
    "\n",
    "\n",
    "# if __name__ == '__main__':\n",
    "#     from werkzeug.serving import run_simple\n",
    "#     run_simple('localhost', 9000, app)"
   ]
  },
  {
   "cell_type": "code",
   "execution_count": null,
   "metadata": {},
   "outputs": [],
   "source": []
  }
 ],
 "metadata": {
  "kernelspec": {
   "display_name": "Python 3",
   "language": "python",
   "name": "python3"
  },
  "language_info": {
   "codemirror_mode": {
    "name": "ipython",
    "version": 3
   },
   "file_extension": ".py",
   "mimetype": "text/x-python",
   "name": "python",
   "nbconvert_exporter": "python",
   "pygments_lexer": "ipython3",
   "version": "3.7.9"
  }
 },
 "nbformat": 4,
 "nbformat_minor": 4
}
